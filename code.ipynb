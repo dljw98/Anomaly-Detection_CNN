{
  "nbformat": 4,
  "nbformat_minor": 0,
  "metadata": {
    "colab": {
      "name": "A0204323X.ipynb",
      "provenance": [],
      "collapsed_sections": [
        "TYRlVXGoo4Ql",
        "BYxWOZKtpgpJ",
        "7X8XP0Qkn3kO",
        "75fBZaGofz6B",
        "4O35Wq9Ao4E0",
        "OdEr43K74K6a"
      ]
    },
    "kernelspec": {
      "display_name": "Python 3",
      "name": "python3"
    },
    "language_info": {
      "name": "python"
    },
    "accelerator": "GPU"
  },
  "cells": [
    {
      "cell_type": "markdown",
      "metadata": {
        "id": "H0KL-Vx5B0pQ"
      },
      "source": [
        "#Instructions to run the code: \n",
        "\n",
        "1.   Import packages upload the datasets\n",
        "2.   Perform data preprocessing and exploration\n",
        "3.   Select one of the three models that I have explored, and run all the cells related to that model\n",
        "4.   Predict on the test dataset by running all the cells in the testing section\n",
        "5.   Repeat step 3-4 to explore the models one by one\n",
        "\n"
      ]
    },
    {
      "cell_type": "markdown",
      "metadata": {
        "id": "TYRlVXGoo4Ql"
      },
      "source": [
        "# Importing packages and Uploading datasets"
      ]
    },
    {
      "cell_type": "code",
      "metadata": {
        "id": "UUXZAGFH_k7j"
      },
      "source": [
        "# Importing packages\n",
        "\n",
        "import warnings\n",
        "warnings.simplefilter(action='ignore', category=FutureWarning)\n",
        "\n",
        "import numpy as np\n",
        "import pandas as pd\n",
        "import tensorflow as tf\n",
        "from matplotlib import pyplot as plt\n",
        "from matplotlib import image\n",
        "import seaborn as sns\n",
        "\n",
        "from sklearn.metrics import confusion_matrix, log_loss, accuracy_score\n",
        "from sklearn.model_selection import train_test_split\n",
        "\n",
        "from tensorflow.keras.layers import Input, Dense, Conv2D, MaxPooling2D, Flatten, Dropout, AveragePooling2D, UpSampling2D\n",
        "from tensorflow.keras.optimizers import Adam, SGD\n",
        "\n",
        "from keras import layers, Sequential\n",
        "from keras.preprocessing.image import ImageDataGenerator, img_to_array, load_img\n",
        "from keras.losses import binary_crossentropy\n",
        "from keras.models import Model"
      ],
      "execution_count": null,
      "outputs": []
    },
    {
      "cell_type": "code",
      "metadata": {
        "id": "QyModg0l_n5E"
      },
      "source": [
        "# Reading the train and test datasets provided\n",
        "train_df = pd.read_csv(\"train.csv\")\n",
        "test_df = pd.read_csv(\"test.csv\")"
      ],
      "execution_count": null,
      "outputs": []
    },
    {
      "cell_type": "markdown",
      "metadata": {
        "id": "BYxWOZKtpgpJ"
      },
      "source": [
        "# Data Preprocessing and Exploration\n",
        "\n",
        "*   Checking for null values in both the train and test datasets\n",
        "*   Checking the shape of the train and test datasets\n",
        "*   Displaying the number of 0 labels and 1 labels in the dataset to identify level of imbalance\n",
        "*   Assigning a variable X to the train dataset (dropping the 'label' column)\n",
        "*   Reshaping X to be of 3 dimensions (-1, 20, 20, 1)\n",
        "*   Displaying the first 10 images with labels to examine a visualization of the image input data"
      ]
    },
    {
      "cell_type": "code",
      "metadata": {
        "colab": {
          "base_uri": "https://localhost:8080/"
        },
        "id": "lz-WDeBqvfuk",
        "outputId": "22edac0e-c0d5-4c1b-b632-9e86b2327846"
      },
      "source": [
        "# Checking if there are any null values in the training dataset\n",
        "train_df.isnull().any()"
      ],
      "execution_count": null,
      "outputs": [
        {
          "output_type": "execute_result",
          "data": {
            "text/plain": [
              "r0c0      False\n",
              "r0c1      False\n",
              "r0c2      False\n",
              "r0c3      False\n",
              "r0c4      False\n",
              "          ...  \n",
              "r19c16    False\n",
              "r19c17    False\n",
              "r19c18    False\n",
              "r19c19    False\n",
              "label     False\n",
              "Length: 401, dtype: bool"
            ]
          },
          "metadata": {},
          "execution_count": 56
        }
      ]
    },
    {
      "cell_type": "code",
      "metadata": {
        "colab": {
          "base_uri": "https://localhost:8080/"
        },
        "id": "r-BkmigcvhMR",
        "outputId": "f5ad61b9-2a46-4fb2-96d9-22696ab61d38"
      },
      "source": [
        "# Checking if there are any null values in the test dataset\n",
        "test_df.isnull().any()"
      ],
      "execution_count": null,
      "outputs": [
        {
          "output_type": "execute_result",
          "data": {
            "text/plain": [
              "Id        False\n",
              "r0c0      False\n",
              "r0c1      False\n",
              "r0c2      False\n",
              "r0c3      False\n",
              "          ...  \n",
              "r19c15    False\n",
              "r19c16    False\n",
              "r19c17    False\n",
              "r19c18    False\n",
              "r19c19    False\n",
              "Length: 401, dtype: bool"
            ]
          },
          "metadata": {},
          "execution_count": 57
        }
      ]
    },
    {
      "cell_type": "code",
      "metadata": {
        "colab": {
          "base_uri": "https://localhost:8080/"
        },
        "id": "nYhkg-WZ9oph",
        "outputId": "2cb2c902-af39-4390-e452-1d87bcdc1b0c"
      },
      "source": [
        "# Checking the shape of the train dataset\n",
        "train_df.shape"
      ],
      "execution_count": null,
      "outputs": [
        {
          "output_type": "execute_result",
          "data": {
            "text/plain": [
              "(72139, 401)"
            ]
          },
          "metadata": {},
          "execution_count": 58
        }
      ]
    },
    {
      "cell_type": "code",
      "metadata": {
        "colab": {
          "base_uri": "https://localhost:8080/"
        },
        "id": "UzUzIgwJ_9B6",
        "outputId": "9279183e-11e0-4b5f-c4dd-e7ef350b253d"
      },
      "source": [
        "# Checking the shape of the test dataset\n",
        "test_df.shape"
      ],
      "execution_count": null,
      "outputs": [
        {
          "output_type": "execute_result",
          "data": {
            "text/plain": [
              "(30917, 401)"
            ]
          },
          "metadata": {},
          "execution_count": 59
        }
      ]
    },
    {
      "cell_type": "code",
      "metadata": {
        "colab": {
          "base_uri": "https://localhost:8080/"
        },
        "id": "iTGfc33L8_6_",
        "outputId": "15c6cd20-6ceb-4dbf-efc0-c8d59093baab"
      },
      "source": [
        "# Dropping labels and assigning these features and values to X\n",
        "X = train_df.drop(columns=['label'], axis=1).values\n",
        "X = X.astype(np.float32)\n",
        "\n",
        "# Reshaping X\n",
        "X = X.reshape((-1, 20, 20, 1))\n",
        "\n",
        "# Assigning y to the labels, and convert y to an array\n",
        "y = train_df['label'].tolist()\n",
        "y = np.array(y)\n",
        "\n",
        "print(X.shape, y.shape)"
      ],
      "execution_count": null,
      "outputs": [
        {
          "output_type": "stream",
          "name": "stdout",
          "text": [
            "(72139, 20, 20, 1) (72139,)\n"
          ]
        }
      ]
    },
    {
      "cell_type": "code",
      "metadata": {
        "colab": {
          "base_uri": "https://localhost:8080/"
        },
        "id": "v0C57N_E49h_",
        "outputId": "3a59982a-edb8-4cd0-e462-12f5f1718669"
      },
      "source": [
        "# Counting the number of 0s and 1s in the dataset\n",
        "zeros = 0\n",
        "ones = 0\n",
        "\n",
        "for value in y:\n",
        "    if value == 0:\n",
        "      zeros += 1\n",
        "    else:\n",
        "      ones +=1\n",
        "\n",
        "print(zeros, ones)\n",
        "#Counted 65581 zeros, and 6558 ones"
      ],
      "execution_count": null,
      "outputs": [
        {
          "output_type": "stream",
          "name": "stdout",
          "text": [
            "65581 6558\n"
          ]
        }
      ]
    },
    {
      "cell_type": "code",
      "metadata": {
        "colab": {
          "base_uri": "https://localhost:8080/",
          "height": 130
        },
        "id": "7wjH-rY0qTBh",
        "outputId": "9f799b22-2870-4ba1-db29-63e808a11c22"
      },
      "source": [
        "# Displaying examples of the images to examine them\n",
        "n = 10 # Printing the first 10\n",
        "plt.figure(figsize=(20, 4))\n",
        "\n",
        "for index in range(n):\n",
        "  plt.title(str(y[index])) # Title is the label of the image\n",
        "  ax = plt.subplot(2, n, index + 1 + n)\n",
        "  plt.imshow(X[index].reshape((20, 20)))\n",
        "  ax.get_xaxis().set_visible(False)\n",
        "  ax.get_yaxis().set_visible(False)\n",
        "plt.show()"
      ],
      "execution_count": null,
      "outputs": [
        {
          "output_type": "display_data",
          "data": {
            "image/png": "[encoded data removed]",
            "text/plain": [
              "<Figure size 1440x288 with 10 Axes>"
            ]
          },
          "metadata": {
            "needs_background": "light"
          }
        }
      ]
    },
    {
      "cell_type": "markdown",
      "metadata": {
        "id": "7X8XP0Qkn3kO"
      },
      "source": [
        "#First Model - Convolutional Neural Network (CNN)\n",
        "A model I created which was inspired by VGG19\n",
        "\n",
        "This section contains:\n",
        "*   Image data preprocessing\n",
        "*   Data splitting\n",
        "*   Model Training\n",
        "*   Loss plotting\n",
        "\n",
        "To run:\n",
        "\n",
        "1.   Split the data and train the model\n",
        "2.   Assess the validation loss using the loss plotting\n",
        "3.   Predict on the test set in the predictions section"
      ]
    },
    {
      "cell_type": "markdown",
      "metadata": {
        "id": "XA50z_nar2Mx"
      },
      "source": [
        "Data splitting (for first CNN model):\n",
        "\n",
        "This is the data split I used for my first model. I used different datasplits for my other models.\n",
        "*   Using a 80/20 split\n",
        "*   Printing out the dataset shapes after splitting to see their dimensions\n",
        "\n"
      ]
    },
    {
      "cell_type": "code",
      "metadata": {
        "colab": {
          "base_uri": "https://localhost:8080/"
        },
        "id": "JM__rM8SBWRj",
        "outputId": "0c21ffe2-39f3-44cc-a21a-f5bb8b15d66a"
      },
      "source": [
        "# Splitting the data into train and validation datasets\n",
        "X_train, X_val, y_train, y_val = train_test_split(X, y, test_size = 0.20, random_state = 2021)\n",
        "\n",
        "# Printing out the shapes of the datasets to ensure they are of compatible dimensions\n",
        "print(\"Train images shape: \", X_train.shape)\n",
        "print(\"Validation images shape: \", X_val.shape)\n",
        "print(\"Train labels shape: \", y_train.shape)\n",
        "print(\"Validation labels shape: \", y_val.shape)\n",
        "\n",
        "ntrain = len(X_train)\n",
        "nval = len(X_val)"
      ],
      "execution_count": null,
      "outputs": [
        {
          "output_type": "stream",
          "name": "stdout",
          "text": [
            "Train images shape:  (57711, 20, 20, 1)\n",
            "Validation images shape:  (14428, 20, 20, 1)\n",
            "Train labels shape:  (57711,)\n",
            "Validation labels shape:  (14428,)\n"
          ]
        }
      ]
    },
    {
      "cell_type": "markdown",
      "metadata": {
        "id": "aoSTUVUBsP1i"
      },
      "source": [
        "Image data preprocessing:\n",
        "\n",
        "This is the image data preprocessing I performed for my first CNN model. I performed different image data preprocessing for my other models.\n",
        "*   Using ImageDataGenerator with image augmentation to test if it would reduce overfitting\n",
        "*   Setting batch_size and train input for the model\n",
        "\n",
        "To run: Run the cell calling the ImageDataGenerator function with image augmentation. Then create train_datagen and val_datagen (next cell).\n",
        "\n",
        "\n",
        "\n"
      ]
    },
    {
      "cell_type": "code",
      "metadata": {
        "id": "yTChpbwRnRmS"
      },
      "source": [
        "# With image augmentation\n",
        "train_image_datagen = ImageDataGenerator(rescale = 1./255,\n",
        "            rotation_range=10, \n",
        "            width_shift_range=0.1, \n",
        "            height_shift_range=0.1, \n",
        "            zoom_range=0.1)\n",
        "\n",
        "# Only need to rescale validation set, no need to augment\n",
        "val_image_datagen = ImageDataGenerator(rescale=1./255)"
      ],
      "execution_count": null,
      "outputs": []
    },
    {
      "cell_type": "code",
      "metadata": {
        "id": "wW1E7o9hnlGg"
      },
      "source": [
        "# Setting train and val datagen with a specified batch_size\n",
        "train_datagen = train_image_datagen.flow(\n",
        "    x=X_train,\n",
        "    y=y_train,\n",
        "    batch_size=32,\n",
        ")\n",
        "\n",
        "val_datagen = val_image_datagen.flow(\n",
        "    x=X_val,\n",
        "    y=y_val,\n",
        "    batch_size=32,\n",
        ")"
      ],
      "execution_count": null,
      "outputs": []
    },
    {
      "cell_type": "markdown",
      "metadata": {
        "id": "7_oykF3itHly"
      },
      "source": [
        "Model architecture:\n",
        "\n",
        "This is the code to build the model\n",
        "*   Added batch normalization and dropout layers\n",
        "*   Model trained using 25 epochs, without callback\n",
        "\n",
        "\n",
        "To run: Run all cells in this section in order and wait for the model to be trained. Must run all cells in the data splitting and image data preprocessing first before being able to train the model.\n"
      ]
    },
    {
      "cell_type": "code",
      "metadata": {
        "id": "ZFRYaoYD6L2r",
        "colab": {
          "base_uri": "https://localhost:8080/"
        },
        "outputId": "7777149e-549d-4091-d661-397a219125dd"
      },
      "source": [
        "# Initial model utilizing my own implementation of VGG19\n",
        "\n",
        "model = Sequential()\n",
        "\n",
        "model.add(Conv2D(filters=64, kernel_size=3, padding='same', activation='relu', input_shape=(20,20,1)))\n",
        "model.add(MaxPooling2D(pool_size=2, padding='same', strides=2))\n",
        "model.add(layers.BatchNormalization())\n",
        "\n",
        "model.add(Conv2D(filters=128, kernel_size=3, padding='same', activation='relu'))\n",
        "model.add(MaxPooling2D(pool_size=2, padding='same', strides=2))\n",
        "model.add(layers.BatchNormalization())\n",
        "\n",
        "model.add(Conv2D(filters=256, kernel_size=3, padding='same', activation='relu'))\n",
        "model.add(MaxPooling2D(pool_size=2, padding='same', strides=2))\n",
        "model.add(Dropout(rate=0.2))\n",
        "model.add(layers.BatchNormalization())\n",
        "\n",
        "model.add(Conv2D(filters=256, kernel_size=3, padding='same', activation='relu'))\n",
        "model.add(MaxPooling2D(pool_size=2, padding='same', strides=2))\n",
        "model.add(Dropout(rate=0.2))\n",
        "model.add(layers.BatchNormalization())\n",
        "\n",
        "model.add(Conv2D(filters=512, kernel_size=3, padding='same', activation='relu'))\n",
        "model.add(MaxPooling2D(pool_size=2, padding='same', strides=2))\n",
        "model.add(Dropout(rate=0.2))\n",
        "model.add(layers.BatchNormalization())\n",
        "\n",
        "model.add(Flatten())\n",
        "\n",
        "model.add(Dense(64, activation='relu'))\n",
        "model.add(Dropout(rate=0.5))\n",
        "\n",
        "model.add(Dense(64, activation='relu'))\n",
        "model.add(Dropout(rate=0.5))\n",
        "\n",
        "model.add(Dense(1, activation='sigmoid'))\n",
        "\n",
        "model.summary()"
      ],
      "execution_count": null,
      "outputs": [
        {
          "output_type": "stream",
          "name": "stdout",
          "text": [
            "Model: \"sequential_1\"\n",
            "_________________________________________________________________\n",
            " Layer (type)                Output Shape              Param #   \n",
            "=================================================================\n",
            " conv2d_5 (Conv2D)           (None, 20, 20, 64)        640       \n",
            "                                                                 \n",
            " max_pooling2d_5 (MaxPooling  (None, 10, 10, 64)       0         \n",
            " 2D)                                                             \n",
            "                                                                 \n",
            " batch_normalization_5 (Batc  (None, 10, 10, 64)       256       \n",
            " hNormalization)                                                 \n",
            "                                                                 \n",
            " conv2d_6 (Conv2D)           (None, 10, 10, 128)       73856     \n",
            "                                                                 \n",
            " max_pooling2d_6 (MaxPooling  (None, 5, 5, 128)        0         \n",
            " 2D)                                                             \n",
            "                                                                 \n",
            " batch_normalization_6 (Batc  (None, 5, 5, 128)        512       \n",
            " hNormalization)                                                 \n",
            "                                                                 \n",
            " conv2d_7 (Conv2D)           (None, 5, 5, 256)         295168    \n",
            "                                                                 \n",
            " max_pooling2d_7 (MaxPooling  (None, 3, 3, 256)        0         \n",
            " 2D)                                                             \n",
            "                                                                 \n",
            " dropout_5 (Dropout)         (None, 3, 3, 256)         0         \n",
            "                                                                 \n",
            " batch_normalization_7 (Batc  (None, 3, 3, 256)        1024      \n",
            " hNormalization)                                                 \n",
            "                                                                 \n",
            " conv2d_8 (Conv2D)           (None, 3, 3, 256)         590080    \n",
            "                                                                 \n",
            " max_pooling2d_8 (MaxPooling  (None, 2, 2, 256)        0         \n",
            " 2D)                                                             \n",
            "                                                                 \n",
            " dropout_6 (Dropout)         (None, 2, 2, 256)         0         \n",
            "                                                                 \n",
            " batch_normalization_8 (Batc  (None, 2, 2, 256)        1024      \n",
            " hNormalization)                                                 \n",
            "                                                                 \n",
            " conv2d_9 (Conv2D)           (None, 2, 2, 512)         1180160   \n",
            "                                                                 \n",
            " max_pooling2d_9 (MaxPooling  (None, 1, 1, 512)        0         \n",
            " 2D)                                                             \n",
            "                                                                 \n",
            " dropout_7 (Dropout)         (None, 1, 1, 512)         0         \n",
            "                                                                 \n",
            " batch_normalization_9 (Batc  (None, 1, 1, 512)        2048      \n",
            " hNormalization)                                                 \n",
            "                                                                 \n",
            " flatten_1 (Flatten)         (None, 512)               0         \n",
            "                                                                 \n",
            " dense_3 (Dense)             (None, 64)                32832     \n",
            "                                                                 \n",
            " dropout_8 (Dropout)         (None, 64)                0         \n",
            "                                                                 \n",
            " dense_4 (Dense)             (None, 64)                4160      \n",
            "                                                                 \n",
            " dropout_9 (Dropout)         (None, 64)                0         \n",
            "                                                                 \n",
            " dense_5 (Dense)             (None, 1)                 65        \n",
            "                                                                 \n",
            "=================================================================\n",
            "Total params: 2,181,825\n",
            "Trainable params: 2,179,393\n",
            "Non-trainable params: 2,432\n",
            "_________________________________________________________________\n"
          ]
        }
      ]
    },
    {
      "cell_type": "code",
      "metadata": {
        "colab": {
          "base_uri": "https://localhost:8080/"
        },
        "id": "_MKUhISbP9bF",
        "outputId": "050b94b5-e06e-49c1-d1a2-4e4a7546b881"
      },
      "source": [
        "# Compiling the model using the Adam optimizer with a learning rate of 3e-4\n",
        "model.compile(loss='binary_crossentropy', \n",
        "              optimizer = Adam(lr=3e-4), \n",
        "              metrics=['acc'])"
      ],
      "execution_count": null,
      "outputs": [
        {
          "output_type": "stream",
          "name": "stderr",
          "text": [
            "/usr/local/lib/python3.7/dist-packages/keras/optimizer_v2/adam.py:105: UserWarning: The `lr` argument is deprecated, use `learning_rate` instead.\n",
            "  super(Adam, self).__init__(name, **kwargs)\n"
          ]
        }
      ]
    },
    {
      "cell_type": "code",
      "metadata": {
        "id": "524g9z_F3FE5",
        "colab": {
          "base_uri": "https://localhost:8080/"
        },
        "outputId": "fc8eb916-aa72-4136-a033-b6f683c922b3"
      },
      "source": [
        "# Training the model using 25 epochs, where number of steps is the length of the train and validation steps divided by the batch size (32)\n",
        "history = model.fit_generator(\n",
        "    train_datagen,\n",
        "    steps_per_epoch = ntrain // 32,\n",
        "    epochs = 25,\n",
        "    validation_data = val_datagen,\n",
        "    validation_steps = nval // 32\n",
        ")"
      ],
      "execution_count": null,
      "outputs": [
        {
          "output_type": "stream",
          "name": "stderr",
          "text": [
            "/usr/local/lib/python3.7/dist-packages/ipykernel_launcher.py:7: UserWarning: `Model.fit_generator` is deprecated and will be removed in a future version. Please use `Model.fit`, which supports generators.\n",
            "  import sys\n"
          ]
        },
        {
          "output_type": "stream",
          "name": "stdout",
          "text": [
            "Epoch 1/25\n",
            "1803/1803 [==============================] - 52s 28ms/step - loss: 0.3008 - acc: 0.8962 - val_loss: 0.1596 - val_acc: 0.9410\n",
            "Epoch 2/25\n",
            "1803/1803 [==============================] - 52s 29ms/step - loss: 0.2049 - acc: 0.9312 - val_loss: 0.1700 - val_acc: 0.9448\n",
            "Epoch 3/25\n",
            "1803/1803 [==============================] - 50s 28ms/step - loss: 0.1768 - acc: 0.9404 - val_loss: 0.1535 - val_acc: 0.9463\n",
            "Epoch 4/25\n",
            "1803/1803 [==============================] - 50s 28ms/step - loss: 0.1599 - acc: 0.9456 - val_loss: 0.1157 - val_acc: 0.9589\n",
            "Epoch 5/25\n",
            "1803/1803 [==============================] - 50s 28ms/step - loss: 0.1460 - acc: 0.9499 - val_loss: 0.1705 - val_acc: 0.9374\n",
            "Epoch 6/25\n",
            "1803/1803 [==============================] - 49s 27ms/step - loss: 0.1376 - acc: 0.9522 - val_loss: 0.1028 - val_acc: 0.9636\n",
            "Epoch 7/25\n",
            "1803/1803 [==============================] - 50s 28ms/step - loss: 0.1288 - acc: 0.9555 - val_loss: 0.1010 - val_acc: 0.9637\n",
            "Epoch 8/25\n",
            "1803/1803 [==============================] - 50s 28ms/step - loss: 0.1209 - acc: 0.9579 - val_loss: 0.1058 - val_acc: 0.9594\n",
            "Epoch 9/25\n",
            "1803/1803 [==============================] - 49s 27ms/step - loss: 0.1135 - acc: 0.9592 - val_loss: 0.0912 - val_acc: 0.9675\n",
            "Epoch 10/25\n",
            "1803/1803 [==============================] - 49s 27ms/step - loss: 0.1072 - acc: 0.9608 - val_loss: 0.0898 - val_acc: 0.9712\n",
            "Epoch 11/25\n",
            "1803/1803 [==============================] - 50s 28ms/step - loss: 0.1027 - acc: 0.9630 - val_loss: 0.0819 - val_acc: 0.9708\n",
            "Epoch 12/25\n",
            "1803/1803 [==============================] - 49s 27ms/step - loss: 0.0996 - acc: 0.9631 - val_loss: 0.0899 - val_acc: 0.9644\n",
            "Epoch 13/25\n",
            "1803/1803 [==============================] - 50s 28ms/step - loss: 0.0965 - acc: 0.9652 - val_loss: 0.0790 - val_acc: 0.9729\n",
            "Epoch 14/25\n",
            "1803/1803 [==============================] - 50s 28ms/step - loss: 0.0952 - acc: 0.9670 - val_loss: 0.0839 - val_acc: 0.9724\n",
            "Epoch 15/25\n",
            "1803/1803 [==============================] - 49s 27ms/step - loss: 0.0902 - acc: 0.9688 - val_loss: 0.0874 - val_acc: 0.9679\n",
            "Epoch 16/25\n",
            "1803/1803 [==============================] - 49s 27ms/step - loss: 0.0886 - acc: 0.9698 - val_loss: 0.0813 - val_acc: 0.9702\n",
            "Epoch 17/25\n",
            "1803/1803 [==============================] - 52s 29ms/step - loss: 0.0864 - acc: 0.9696 - val_loss: 0.0820 - val_acc: 0.9698\n",
            "Epoch 18/25\n",
            "1803/1803 [==============================] - 49s 27ms/step - loss: 0.0823 - acc: 0.9721 - val_loss: 0.0707 - val_acc: 0.9742\n",
            "Epoch 19/25\n",
            "1803/1803 [==============================] - 49s 27ms/step - loss: 0.0817 - acc: 0.9723 - val_loss: 0.0901 - val_acc: 0.9640\n",
            "Epoch 20/25\n",
            "1803/1803 [==============================] - 52s 29ms/step - loss: 0.0787 - acc: 0.9731 - val_loss: 0.0819 - val_acc: 0.9704\n",
            "Epoch 21/25\n",
            "1803/1803 [==============================] - 49s 27ms/step - loss: 0.0775 - acc: 0.9736 - val_loss: 0.0817 - val_acc: 0.9716\n",
            "Epoch 22/25\n",
            "1803/1803 [==============================] - 49s 27ms/step - loss: 0.0765 - acc: 0.9735 - val_loss: 0.0739 - val_acc: 0.9701\n",
            "Epoch 23/25\n",
            "1803/1803 [==============================] - 49s 27ms/step - loss: 0.0750 - acc: 0.9747 - val_loss: 0.0845 - val_acc: 0.9701\n",
            "Epoch 24/25\n",
            "1803/1803 [==============================] - 52s 29ms/step - loss: 0.0729 - acc: 0.9753 - val_loss: 0.0800 - val_acc: 0.9712\n",
            "Epoch 25/25\n",
            "1803/1803 [==============================] - 49s 27ms/step - loss: 0.0733 - acc: 0.9763 - val_loss: 0.0845 - val_acc: 0.9698\n"
          ]
        }
      ]
    },
    {
      "cell_type": "markdown",
      "metadata": {
        "id": "68WoUzgRqmBy"
      },
      "source": [
        "Plotting the loss curves after training\n",
        "\n",
        "*   Training loss\n",
        "*   Validation loss"
      ]
    },
    {
      "cell_type": "code",
      "metadata": {
        "colab": {
          "base_uri": "https://localhost:8080/",
          "height": 281
        },
        "id": "KRRbW-kJqldl",
        "outputId": "d618cbb7-352e-4cfb-a165-7f059b3a4e4f"
      },
      "source": [
        "# Plot the losses\n",
        "loss = history.history['loss'] # Training loss\n",
        "val_loss = history.history['val_loss'] # Validation loss\n",
        "\n",
        "epochs = range(1, len(loss) + 1)\n",
        "\n",
        "# Plotting with labels, title, and legend\n",
        "plt.figure()\n",
        "plt.plot(epochs, loss, 'b', label = 'Train Loss')\n",
        "plt.plot(epochs, val_loss, 'r', label = 'Val Loss')\n",
        "plt.title('Training and Validation Loss')\n",
        "plt.legend()\n",
        "\n",
        "plt.show()"
      ],
      "execution_count": null,
      "outputs": [
        {
          "output_type": "display_data",
          "data": {
            "image/png": "[encoded data removed]",
            "text/plain": [
              "<Figure size 432x288 with 1 Axes>"
            ]
          },
          "metadata": {
            "needs_background": "light"
          }
        }
      ]
    },
    {
      "cell_type": "markdown",
      "metadata": {
        "id": "75fBZaGofz6B"
      },
      "source": [
        "#Second Model - Convolutional Neural Network (CNN)\n",
        "A new model with only 2 layers. This model was used for one of my final Kaggle submissions\n",
        "\n",
        "This section contains:\n",
        "*   Image data preprocessing\n",
        "*   Data splitting\n",
        "*   Model Training\n",
        "*   Loss plotting\n",
        "\n",
        "To run:\n",
        "\n",
        "1.   Split the data and train the model\n",
        "2.   Assess the validation loss using the loss plotting\n",
        "3.   Predict on the test set in the predictions section"
      ]
    },
    {
      "cell_type": "markdown",
      "metadata": {
        "id": "ylg31G1HgNwG"
      },
      "source": [
        "Data splitting:\n",
        "\n",
        "This is the data split I used for my second model. I used different datasplits for my other models.\n",
        "*   Using a 90/10 split\n",
        "*   Printing out the dataset shapes after splitting to see their dimensions"
      ]
    },
    {
      "cell_type": "code",
      "metadata": {
        "colab": {
          "base_uri": "https://localhost:8080/"
        },
        "id": "wZZcxhCVgKab",
        "outputId": "9efd57c5-493d-4d1c-b090-1593ac3193d7"
      },
      "source": [
        "# Splitting the data into train and validation datasets\n",
        "X_train, X_val, y_train, y_val = train_test_split(X, y, test_size = 0.10, random_state = 2021)\n",
        "\n",
        "# Printing out the shapes of the datasets to ensure they are of compatible dimensions\n",
        "print(\"Train images shape: \", X_train.shape)\n",
        "print(\"Validation images shape: \", X_val.shape)\n",
        "print(\"Train labels shape: \", y_train.shape)\n",
        "print(\"Validation labels shape: \", y_val.shape)\n",
        "\n",
        "ntrain = len(X_train)\n",
        "nval = len(X_val)"
      ],
      "execution_count": null,
      "outputs": [
        {
          "output_type": "stream",
          "name": "stdout",
          "text": [
            "Train images shape:  (64925, 20, 20, 1)\n",
            "Validation images shape:  (7214, 20, 20, 1)\n",
            "Train labels shape:  (64925,)\n",
            "Validation labels shape:  (7214,)\n"
          ]
        }
      ]
    },
    {
      "cell_type": "markdown",
      "metadata": {
        "id": "UnR_CaJcgQ7N"
      },
      "source": [
        "Image data preprocessing:\n",
        "\n",
        "This is the image data preprocessing I performed for my second CNN model. I performed different image data preprocessing for my other models.\n",
        "*   Using ImageDataGenerator without image augmentation\n",
        "*   Setting batch_size and train input for the model\n",
        "\n",
        "To run: Run the cell calling the ImageDataGenerator function without image augmentation. Then create train_datagen and val_datagen (next cell)."
      ]
    },
    {
      "cell_type": "code",
      "metadata": {
        "id": "m1hha67tgTwg"
      },
      "source": [
        "# Without image augmentation\n",
        "train_image_datagen = ImageDataGenerator(rescale = 1./255)\n",
        "\n",
        "val_image_datagen = ImageDataGenerator(rescale=1./255)"
      ],
      "execution_count": null,
      "outputs": []
    },
    {
      "cell_type": "code",
      "metadata": {
        "id": "JSnRrRuCgUHu"
      },
      "source": [
        "# Setting train and val datagen with a specified batch_size\n",
        "train_datagen = train_image_datagen.flow(\n",
        "    x=X_train,\n",
        "    y=y_train,\n",
        "    batch_size=32,\n",
        ")\n",
        "\n",
        "val_datagen = val_image_datagen.flow(\n",
        "    x=X_val,\n",
        "    y=y_val,\n",
        "    batch_size=32,\n",
        ")"
      ],
      "execution_count": null,
      "outputs": []
    },
    {
      "cell_type": "markdown",
      "metadata": {
        "id": "zTY1wfOCglsg"
      },
      "source": [
        "Model architecture: \n",
        "\n",
        "This is the code to build the model\n",
        "*   Fresh model with only 2 layers\n",
        "*   Much less layers and params than the first model to prevent overfitting\n",
        "*   Model trained using callbacks, epochs set to a limit of 60\n",
        "*   Setting a smaller learning rate of 0.0001 due to the higher number of epochs and early stopping\n",
        "\n",
        "To run: Run all cells in this section in order and wait for the model to be trained. Must run all cells in the data splitting and image data preprocessing first before being able to train the model."
      ]
    },
    {
      "cell_type": "code",
      "metadata": {
        "colab": {
          "base_uri": "https://localhost:8080/"
        },
        "id": "psaB91vAgotg",
        "outputId": "c61bedf2-8b43-4420-d63d-d2dc09c7ee51"
      },
      "source": [
        "# This second model is less complex than the first CNN model\n",
        "\n",
        "model = Sequential()\n",
        "\n",
        "model.add(Conv2D(filters=96, kernel_size=5, padding='same', activation='relu', input_shape=(20,20,1)))\n",
        "model.add(MaxPooling2D(pool_size=2, padding='same', strides=2))\n",
        "\n",
        "model.add(Conv2D(filters=128, kernel_size=3, padding='same', activation='relu'))\n",
        "model.add(MaxPooling2D(pool_size=2, padding='same', strides=2))\n",
        "model.add(Dropout(rate=0.65))\n",
        "model.add(layers.BatchNormalization())\n",
        "\n",
        "model.add(Flatten())\n",
        "\n",
        "model.add(Dense(64, activation='relu'))\n",
        "model.add(Dropout(rate=0.2))\n",
        "model.add(Dense(64, activation='relu'))\n",
        "model.add(Dropout(rate=0.2))\n",
        "model.add(Dense(1, activation='sigmoid'))\n",
        "\n",
        "model.summary()"
      ],
      "execution_count": null,
      "outputs": [
        {
          "output_type": "stream",
          "name": "stdout",
          "text": [
            "Model: \"sequential_5\"\n",
            "_________________________________________________________________\n",
            " Layer (type)                Output Shape              Param #   \n",
            "=================================================================\n",
            " conv2d_10 (Conv2D)          (None, 20, 20, 96)        2496      \n",
            "                                                                 \n",
            " max_pooling2d_10 (MaxPoolin  (None, 10, 10, 96)       0         \n",
            " g2D)                                                            \n",
            "                                                                 \n",
            " conv2d_11 (Conv2D)          (None, 10, 10, 128)       110720    \n",
            "                                                                 \n",
            " max_pooling2d_11 (MaxPoolin  (None, 5, 5, 128)        0         \n",
            " g2D)                                                            \n",
            "                                                                 \n",
            " dropout_15 (Dropout)        (None, 5, 5, 128)         0         \n",
            "                                                                 \n",
            " batch_normalization_5 (Batc  (None, 5, 5, 128)        512       \n",
            " hNormalization)                                                 \n",
            "                                                                 \n",
            " flatten_5 (Flatten)         (None, 3200)              0         \n",
            "                                                                 \n",
            " dense_15 (Dense)            (None, 64)                204864    \n",
            "                                                                 \n",
            " dropout_16 (Dropout)        (None, 64)                0         \n",
            "                                                                 \n",
            " dense_16 (Dense)            (None, 64)                4160      \n",
            "                                                                 \n",
            " dropout_17 (Dropout)        (None, 64)                0         \n",
            "                                                                 \n",
            " dense_17 (Dense)            (None, 1)                 65        \n",
            "                                                                 \n",
            "=================================================================\n",
            "Total params: 322,817\n",
            "Trainable params: 322,561\n",
            "Non-trainable params: 256\n",
            "_________________________________________________________________\n"
          ]
        }
      ]
    },
    {
      "cell_type": "code",
      "metadata": {
        "colab": {
          "base_uri": "https://localhost:8080/"
        },
        "id": "gb7DcW4Agxih",
        "outputId": "c0ec0a30-0f2d-48f5-ffe2-738b3b244aac"
      },
      "source": [
        "# Compiling the model using the Adam optimizer with a smaller learning rate of 0.0001\n",
        "model.compile(loss='binary_crossentropy', \n",
        "              optimizer = Adam(lr=0.0001), \n",
        "              metrics=['acc'])"
      ],
      "execution_count": null,
      "outputs": [
        {
          "output_type": "stream",
          "name": "stderr",
          "text": [
            "/usr/local/lib/python3.7/dist-packages/keras/optimizer_v2/adam.py:105: UserWarning: The `lr` argument is deprecated, use `learning_rate` instead.\n",
            "  super(Adam, self).__init__(name, **kwargs)\n"
          ]
        }
      ]
    },
    {
      "cell_type": "code",
      "metadata": {
        "colab": {
          "base_uri": "https://localhost:8080/"
        },
        "id": "8kAr8yMHg0Vh",
        "outputId": "ba232925-2841-4450-d76f-06bfcac2b712"
      },
      "source": [
        "# Training the model using 60 epochs with early stopping, and the number of steps is the length of the \n",
        "# train and validation steps divided by the batch size (32)\n",
        "\n",
        "history = model.fit_generator(\n",
        "    train_datagen,\n",
        "    steps_per_epoch = ntrain // 32,\n",
        "    epochs = 60,\n",
        "    validation_data = val_datagen,\n",
        "    validation_steps = nval // 32,\n",
        "    callbacks=[tf.keras.callbacks.EarlyStopping(monitor='val_loss', patience=8, min_delta=0.0001)] # This time using callbacks to find the optimal stop point\n",
        ")"
      ],
      "execution_count": null,
      "outputs": [
        {
          "output_type": "stream",
          "name": "stderr",
          "text": [
            "/usr/local/lib/python3.7/dist-packages/ipykernel_launcher.py:10: UserWarning: `Model.fit_generator` is deprecated and will be removed in a future version. Please use `Model.fit`, which supports generators.\n",
            "  # Remove the CWD from sys.path while we load stuff.\n"
          ]
        },
        {
          "output_type": "stream",
          "name": "stdout",
          "text": [
            "Epoch 1/60\n",
            "2028/2028 [==============================] - 21s 10ms/step - loss: 0.2528 - acc: 0.9201 - val_loss: 0.1674 - val_acc: 0.9408\n",
            "Epoch 2/60\n",
            "2028/2028 [==============================] - 20s 10ms/step - loss: 0.1802 - acc: 0.9414 - val_loss: 0.1611 - val_acc: 0.9474\n",
            "Epoch 3/60\n",
            "2028/2028 [==============================] - 20s 10ms/step - loss: 0.1546 - acc: 0.9485 - val_loss: 0.1436 - val_acc: 0.9513\n",
            "Epoch 4/60\n",
            "2028/2028 [==============================] - 20s 10ms/step - loss: 0.1393 - acc: 0.9528 - val_loss: 0.1122 - val_acc: 0.9615\n",
            "Epoch 5/60\n",
            "2028/2028 [==============================] - 20s 10ms/step - loss: 0.1272 - acc: 0.9573 - val_loss: 0.0972 - val_acc: 0.9636\n",
            "Epoch 6/60\n",
            "2028/2028 [==============================] - 20s 10ms/step - loss: 0.1182 - acc: 0.9593 - val_loss: 0.1322 - val_acc: 0.9533\n",
            "Epoch 7/60\n",
            "2028/2028 [==============================] - 20s 10ms/step - loss: 0.1093 - acc: 0.9626 - val_loss: 0.1326 - val_acc: 0.9576\n",
            "Epoch 8/60\n",
            "2028/2028 [==============================] - 21s 10ms/step - loss: 0.1046 - acc: 0.9637 - val_loss: 0.0964 - val_acc: 0.9654\n",
            "Epoch 9/60\n",
            "2028/2028 [==============================] - 20s 10ms/step - loss: 0.0991 - acc: 0.9661 - val_loss: 0.0813 - val_acc: 0.9714\n",
            "Epoch 10/60\n",
            "2028/2028 [==============================] - 21s 10ms/step - loss: 0.0940 - acc: 0.9675 - val_loss: 0.0948 - val_acc: 0.9683\n",
            "Epoch 11/60\n",
            "2028/2028 [==============================] - 21s 10ms/step - loss: 0.0905 - acc: 0.9689 - val_loss: 0.0797 - val_acc: 0.9719\n",
            "Epoch 12/60\n",
            "2028/2028 [==============================] - 20s 10ms/step - loss: 0.0848 - acc: 0.9699 - val_loss: 0.1503 - val_acc: 0.9501\n",
            "Epoch 13/60\n",
            "2028/2028 [==============================] - 21s 10ms/step - loss: 0.0820 - acc: 0.9720 - val_loss: 0.0691 - val_acc: 0.9753\n",
            "Epoch 14/60\n",
            "2028/2028 [==============================] - 21s 10ms/step - loss: 0.0785 - acc: 0.9720 - val_loss: 0.0728 - val_acc: 0.9728\n",
            "Epoch 15/60\n",
            "2028/2028 [==============================] - 20s 10ms/step - loss: 0.0781 - acc: 0.9724 - val_loss: 0.0646 - val_acc: 0.9776\n",
            "Epoch 16/60\n",
            "2028/2028 [==============================] - 20s 10ms/step - loss: 0.0734 - acc: 0.9741 - val_loss: 0.0662 - val_acc: 0.9781\n",
            "Epoch 17/60\n",
            "2028/2028 [==============================] - 20s 10ms/step - loss: 0.0711 - acc: 0.9751 - val_loss: 0.0662 - val_acc: 0.9764\n",
            "Epoch 18/60\n",
            "2028/2028 [==============================] - 20s 10ms/step - loss: 0.0689 - acc: 0.9757 - val_loss: 0.0661 - val_acc: 0.9771\n",
            "Epoch 19/60\n",
            "2028/2028 [==============================] - 20s 10ms/step - loss: 0.0684 - acc: 0.9761 - val_loss: 0.0595 - val_acc: 0.9801\n",
            "Epoch 20/60\n",
            "2028/2028 [==============================] - 20s 10ms/step - loss: 0.0652 - acc: 0.9767 - val_loss: 0.0595 - val_acc: 0.9800\n",
            "Epoch 21/60\n",
            "2028/2028 [==============================] - 20s 10ms/step - loss: 0.0636 - acc: 0.9781 - val_loss: 0.0838 - val_acc: 0.9751\n",
            "Epoch 22/60\n",
            "2028/2028 [==============================] - 20s 10ms/step - loss: 0.0633 - acc: 0.9776 - val_loss: 0.0577 - val_acc: 0.9792\n",
            "Epoch 23/60\n",
            "2028/2028 [==============================] - 20s 10ms/step - loss: 0.0602 - acc: 0.9788 - val_loss: 0.0587 - val_acc: 0.9803\n",
            "Epoch 24/60\n",
            "2028/2028 [==============================] - 20s 10ms/step - loss: 0.0597 - acc: 0.9789 - val_loss: 0.0627 - val_acc: 0.9787\n",
            "Epoch 25/60\n",
            "2028/2028 [==============================] - 20s 10ms/step - loss: 0.0567 - acc: 0.9795 - val_loss: 0.0623 - val_acc: 0.9794\n",
            "Epoch 26/60\n",
            "2028/2028 [==============================] - 20s 10ms/step - loss: 0.0555 - acc: 0.9804 - val_loss: 0.0564 - val_acc: 0.9821\n",
            "Epoch 27/60\n",
            "2028/2028 [==============================] - 20s 10ms/step - loss: 0.0560 - acc: 0.9802 - val_loss: 0.0571 - val_acc: 0.9807\n",
            "Epoch 28/60\n",
            "2028/2028 [==============================] - 20s 10ms/step - loss: 0.0536 - acc: 0.9812 - val_loss: 0.0615 - val_acc: 0.9806\n",
            "Epoch 29/60\n",
            "2028/2028 [==============================] - 20s 10ms/step - loss: 0.0528 - acc: 0.9808 - val_loss: 0.0579 - val_acc: 0.9826\n",
            "Epoch 30/60\n",
            "2028/2028 [==============================] - 21s 10ms/step - loss: 0.0522 - acc: 0.9814 - val_loss: 0.0514 - val_acc: 0.9839\n",
            "Epoch 31/60\n",
            "2028/2028 [==============================] - 20s 10ms/step - loss: 0.0509 - acc: 0.9810 - val_loss: 0.0801 - val_acc: 0.9768\n",
            "Epoch 32/60\n",
            "2028/2028 [==============================] - 20s 10ms/step - loss: 0.0499 - acc: 0.9827 - val_loss: 0.0685 - val_acc: 0.9774\n",
            "Epoch 33/60\n",
            "2028/2028 [==============================] - 21s 10ms/step - loss: 0.0484 - acc: 0.9821 - val_loss: 0.0523 - val_acc: 0.9840\n",
            "Epoch 34/60\n",
            "2028/2028 [==============================] - 20s 10ms/step - loss: 0.0489 - acc: 0.9823 - val_loss: 0.0499 - val_acc: 0.9839\n",
            "Epoch 35/60\n",
            "2028/2028 [==============================] - 21s 10ms/step - loss: 0.0459 - acc: 0.9839 - val_loss: 0.0503 - val_acc: 0.9842\n",
            "Epoch 36/60\n",
            "2028/2028 [==============================] - 20s 10ms/step - loss: 0.0445 - acc: 0.9839 - val_loss: 0.0581 - val_acc: 0.9817\n",
            "Epoch 37/60\n",
            "2028/2028 [==============================] - 21s 10ms/step - loss: 0.0468 - acc: 0.9830 - val_loss: 0.0509 - val_acc: 0.9844\n",
            "Epoch 38/60\n",
            "2028/2028 [==============================] - 21s 10ms/step - loss: 0.0437 - acc: 0.9845 - val_loss: 0.0537 - val_acc: 0.9843\n",
            "Epoch 39/60\n",
            "2028/2028 [==============================] - 20s 10ms/step - loss: 0.0445 - acc: 0.9839 - val_loss: 0.0572 - val_acc: 0.9831\n",
            "Epoch 40/60\n",
            "2028/2028 [==============================] - 21s 10ms/step - loss: 0.0428 - acc: 0.9845 - val_loss: 0.0510 - val_acc: 0.9853\n",
            "Epoch 41/60\n",
            "2028/2028 [==============================] - 20s 10ms/step - loss: 0.0430 - acc: 0.9845 - val_loss: 0.0565 - val_acc: 0.9828\n",
            "Epoch 42/60\n",
            "2028/2028 [==============================] - 20s 10ms/step - loss: 0.0405 - acc: 0.9853 - val_loss: 0.0567 - val_acc: 0.9847\n"
          ]
        }
      ]
    },
    {
      "cell_type": "markdown",
      "metadata": {
        "id": "Uoax3QTOg3G_"
      },
      "source": [
        "Plotting the loss curves after training\n",
        "\n",
        "*   Training loss\n",
        "*   Validation loss"
      ]
    },
    {
      "cell_type": "code",
      "metadata": {
        "id": "cO4Rn6x-g2sK",
        "colab": {
          "base_uri": "https://localhost:8080/",
          "height": 281
        },
        "outputId": "41d842a9-3fbd-49cc-9934-1a2d8b33ac6a"
      },
      "source": [
        "# Plot the losses\n",
        "loss = history.history['loss'] # Training loss\n",
        "val_loss = history.history['val_loss'] # Validation loss\n",
        "\n",
        "epochs = range(1, len(loss) + 1)\n",
        "\n",
        "# Plotting with labels, title, and legend\n",
        "plt.figure()\n",
        "plt.plot(epochs, loss, 'b', label = 'Train Loss')\n",
        "plt.plot(epochs, val_loss, 'r', label = 'Val Loss')\n",
        "plt.title('Training and Validation Loss')\n",
        "plt.legend()\n",
        "\n",
        "plt.show()"
      ],
      "execution_count": null,
      "outputs": [
        {
          "output_type": "display_data",
          "data": {
            "image/png": "[encoded data removed]",
            "text/plain": [
              "<Figure size 432x288 with 1 Axes>"
            ]
          },
          "metadata": {
            "needs_background": "light"
          }
        }
      ]
    },
    {
      "cell_type": "markdown",
      "metadata": {
        "id": "4O35Wq9Ao4E0"
      },
      "source": [
        "#Third Model - Convolutional Neural Network (CNN)\n",
        "My third model is a variation of my second model. This model was used for one of my final Kaggle submissions\n",
        "\n",
        "This section contains:\n",
        "*   Image data preprocessing\n",
        "*   Data splitting (2 kinds)\n",
        "*   Model Training\n",
        "*   Loss plotting\n",
        "\n",
        "I used 2 different kinds of data splits labelled #1 and #2 for this model. I used #1 to generate the final submission and #2 when evaluating the model performance during training iterations.\n",
        "\n",
        "To run: \n",
        "\n",
        "1.   Use data split #2 and train the model\n",
        "2.   Assess the performance using the performance metrics section\n",
        "3.   Use data split #1 and train the model\n",
        "4.   Predict on the test set in the predictions section\n"
      ]
    },
    {
      "cell_type": "markdown",
      "metadata": {
        "id": "O11wECJUDg9q"
      },
      "source": [
        "Data splitting #1 (for predicting on the Test Dataset):\n",
        "\n",
        "This is the data split I used for my third model. I used different datasplits for my other models.\n",
        "*   Using a 90/10 split\n",
        "*   Printing out the dataset shapes after splitting to see their dimensions"
      ]
    },
    {
      "cell_type": "code",
      "metadata": {
        "id": "YqBiIPmgDhVn",
        "colab": {
          "base_uri": "https://localhost:8080/"
        },
        "outputId": "91e050a6-bb2b-429e-b405-83d1b71aabce"
      },
      "source": [
        "# Splitting the data into train and validation datasets\n",
        "X_train, X_val, y_train, y_val = train_test_split(X, y, test_size = 0.10, random_state = 2021)\n",
        "\n",
        "# Printing out the shapes of the datasets to ensure they are of compatible dimensions\n",
        "print(\"Train images shape: \", X_train.shape)\n",
        "print(\"Validation images shape: \", X_val.shape)\n",
        "print(\"Train labels shape: \", y_train.shape)\n",
        "print(\"Validation labels shape: \", y_val.shape)\n",
        "\n",
        "ntrain = len(X_train)\n",
        "nval = len(X_val)"
      ],
      "execution_count": null,
      "outputs": [
        {
          "output_type": "stream",
          "name": "stdout",
          "text": [
            "Train images shape:  (64925, 20, 20, 1)\n",
            "Validation images shape:  (7214, 20, 20, 1)\n",
            "Train labels shape:  (64925,)\n",
            "Validation labels shape:  (7214,)\n"
          ]
        }
      ]
    },
    {
      "cell_type": "markdown",
      "metadata": {
        "id": "o619im5kDYuK"
      },
      "source": [
        "Data splitting #2 (for training performance evaluation only):\n",
        "\n",
        "This is the other data split I used for my third model, and was used solely to assess the model during training iterations. I used different datasplits for my other models.\n",
        "*   Using a 90/10 split to split into train and test\n",
        "*   Using a 90/10 split to split train into train and val\n",
        "*   Printing out the dataset shapes after splitting to see their dimensions"
      ]
    },
    {
      "cell_type": "code",
      "metadata": {
        "colab": {
          "base_uri": "https://localhost:8080/"
        },
        "id": "Yh3PXy_HEQvb",
        "outputId": "834ead21-c242-4e63-aaf9-c64f98aa39d3"
      },
      "source": [
        "# Splitting the data into train and validation datasets\n",
        "X_train, X_test, y_train, y_test = train_test_split(X, y, test_size = 0.10, random_state = 2021)\n",
        "\n",
        "X_train, X_val, y_train, y_val = train_test_split(X_train, y_train, test_size = 0.10, random_state = 2021)\n",
        "\n",
        "# Printing out the shapes of the datasets to ensure they are of compatible dimensions\n",
        "print(\"Train images shape: \", X_train.shape)\n",
        "print(\"Validation images shape: \", X_val.shape)\n",
        "print(\"Test images shape: \", X_test.shape)\n",
        "print(\"Train labels shape: \", y_train.shape)\n",
        "print(\"Validation labels shape: \", y_val.shape)\n",
        "print(\"Test labels shape: \", y_test.shape)\n",
        "\n",
        "ntrain = len(X_train)\n",
        "nval = len(X_val)"
      ],
      "execution_count": null,
      "outputs": [
        {
          "output_type": "stream",
          "name": "stdout",
          "text": [
            "Train images shape:  (58432, 20, 20, 1)\n",
            "Validation images shape:  (6493, 20, 20, 1)\n",
            "Test images shape:  (7214, 20, 20, 1)\n",
            "Train labels shape:  (58432,)\n",
            "Validation labels shape:  (6493,)\n",
            "Test labels shape:  (7214,)\n"
          ]
        }
      ]
    },
    {
      "cell_type": "markdown",
      "metadata": {
        "id": "8vKwvzk3DTZY"
      },
      "source": [
        "Image data preprocessing:\n",
        "\n",
        "This is the image data preprocessing I performed for my third CNN model. I performed different image data preprocessing for my other models.\n",
        "*   Using ImageDataGenerator without image augmentation\n",
        "*   Setting batch_size and train input for the model\n",
        "\n",
        "To run: Run the cell calling the ImageDataGenerator function without image augmentation. Then create train_datagen and val_datagen (next cell)."
      ]
    },
    {
      "cell_type": "code",
      "metadata": {
        "id": "y5eiQpMMDSck"
      },
      "source": [
        "# Without image augmentation\n",
        "train_image_datagen = ImageDataGenerator(rescale = 1./255)\n",
        "\n",
        "val_image_datagen = ImageDataGenerator(rescale=1./255)"
      ],
      "execution_count": null,
      "outputs": []
    },
    {
      "cell_type": "code",
      "metadata": {
        "id": "3B-cWod3G5IQ"
      },
      "source": [
        "# Setting train and val datagen with a specified batch_size\n",
        "train_datagen = train_image_datagen.flow(\n",
        "    x=X_train,\n",
        "    y=y_train,\n",
        "    batch_size=32,\n",
        ")\n",
        "\n",
        "val_datagen = val_image_datagen.flow(\n",
        "    x=X_val,\n",
        "    y=y_val,\n",
        "    batch_size=32,\n",
        ")"
      ],
      "execution_count": null,
      "outputs": []
    },
    {
      "cell_type": "markdown",
      "metadata": {
        "id": "SmxRUEw_2Bnn"
      },
      "source": [
        "Model architecture: \n",
        "\n",
        "This is the code to build the model\n",
        "*   Similar model to my second model\n",
        "*   Changes in dropout layers\n",
        "*   Changes in number of neurons\n",
        "\n",
        "To run: Run all cells in this section in order and wait for the model to be trained. Must run all cells in the data splitting and image data preprocessing first before being able to train the model."
      ]
    },
    {
      "cell_type": "code",
      "metadata": {
        "id": "rNi_VGAY2A2D",
        "colab": {
          "base_uri": "https://localhost:8080/"
        },
        "outputId": "ef1507f1-f19f-40ad-c2f1-ac5934c93124"
      },
      "source": [
        "# Slight variation of the second model - less dropout rate and different neurons for the Conv2D layers\n",
        "\n",
        "model = Sequential()\n",
        "\n",
        "model.add(Conv2D(filters=128, kernel_size=5, padding='same', activation='relu', input_shape=(20,20,1)))\n",
        "model.add(MaxPooling2D(pool_size=2, padding='same', strides=2))\n",
        "\n",
        "model.add(Conv2D(filters=96, kernel_size=3, padding='same', activation='relu'))\n",
        "model.add(MaxPooling2D(pool_size=2, padding='same', strides=2))\n",
        "model.add(Dropout(rate=0.55))\n",
        "model.add(layers.BatchNormalization())\n",
        "\n",
        "model.add(Flatten())\n",
        "\n",
        "model.add(Dense(64, activation='relu'))\n",
        "model.add(Dropout(rate=0.18))\n",
        "model.add(Dense(64, activation='relu'))\n",
        "model.add(Dropout(rate=0.22))\n",
        "model.add(Dense(1, activation='sigmoid'))\n",
        "\n",
        "model.summary()"
      ],
      "execution_count": null,
      "outputs": [
        {
          "output_type": "stream",
          "name": "stdout",
          "text": [
            "Model: \"sequential_2\"\n",
            "_________________________________________________________________\n",
            " Layer (type)                Output Shape              Param #   \n",
            "=================================================================\n",
            " conv2d_4 (Conv2D)           (None, 20, 20, 128)       3328      \n",
            "                                                                 \n",
            " max_pooling2d_4 (MaxPooling  (None, 10, 10, 128)      0         \n",
            " 2D)                                                             \n",
            "                                                                 \n",
            " conv2d_5 (Conv2D)           (None, 10, 10, 96)        110688    \n",
            "                                                                 \n",
            " max_pooling2d_5 (MaxPooling  (None, 5, 5, 96)         0         \n",
            " 2D)                                                             \n",
            "                                                                 \n",
            " dropout_6 (Dropout)         (None, 5, 5, 96)          0         \n",
            "                                                                 \n",
            " batch_normalization_2 (Batc  (None, 5, 5, 96)         384       \n",
            " hNormalization)                                                 \n",
            "                                                                 \n",
            " flatten_2 (Flatten)         (None, 2400)              0         \n",
            "                                                                 \n",
            " dense_6 (Dense)             (None, 64)                153664    \n",
            "                                                                 \n",
            " dropout_7 (Dropout)         (None, 64)                0         \n",
            "                                                                 \n",
            " dense_7 (Dense)             (None, 64)                4160      \n",
            "                                                                 \n",
            " dropout_8 (Dropout)         (None, 64)                0         \n",
            "                                                                 \n",
            " dense_8 (Dense)             (None, 1)                 65        \n",
            "                                                                 \n",
            "=================================================================\n",
            "Total params: 272,289\n",
            "Trainable params: 272,097\n",
            "Non-trainable params: 192\n",
            "_________________________________________________________________\n"
          ]
        }
      ]
    },
    {
      "cell_type": "code",
      "metadata": {
        "colab": {
          "base_uri": "https://localhost:8080/"
        },
        "id": "Bp2YQq2WPuRR",
        "outputId": "13dc2281-645a-4a2e-f182-8d86f29df6ea"
      },
      "source": [
        "# Compiling the model using the Adam optimizer with a learning rate of 0.0001\n",
        "model.compile(loss='binary_crossentropy', \n",
        "              optimizer = Adam(lr=0.0001), \n",
        "              metrics=['acc'])"
      ],
      "execution_count": null,
      "outputs": [
        {
          "output_type": "stream",
          "name": "stderr",
          "text": [
            "/usr/local/lib/python3.7/dist-packages/keras/optimizer_v2/adam.py:105: UserWarning: The `lr` argument is deprecated, use `learning_rate` instead.\n",
            "  super(Adam, self).__init__(name, **kwargs)\n"
          ]
        }
      ]
    },
    {
      "cell_type": "code",
      "metadata": {
        "id": "XSTqxmQlF8QF",
        "colab": {
          "base_uri": "https://localhost:8080/"
        },
        "outputId": "a274bbfd-c6a8-4f0f-b5cc-0f1a1c9f72d5"
      },
      "source": [
        "# Training the model using 60 epochs with early stopping, and the number of steps is the length of the \n",
        "# train and validation steps divided by the batch size (32)\n",
        "\n",
        "history = model.fit_generator(\n",
        "    train_datagen,\n",
        "    steps_per_epoch = ntrain // 32,\n",
        "    epochs = 60,\n",
        "    validation_data = val_datagen,\n",
        "    validation_steps = nval // 32,\n",
        "    callbacks=[tf.keras.callbacks.EarlyStopping(monitor='val_loss', patience=8, min_delta=0.0001)]\n",
        ")"
      ],
      "execution_count": null,
      "outputs": [
        {
          "output_type": "stream",
          "name": "stderr",
          "text": [
            "/usr/local/lib/python3.7/dist-packages/ipykernel_launcher.py:10: UserWarning: `Model.fit_generator` is deprecated and will be removed in a future version. Please use `Model.fit`, which supports generators.\n",
            "  # Remove the CWD from sys.path while we load stuff.\n"
          ]
        },
        {
          "output_type": "stream",
          "name": "stdout",
          "text": [
            "Epoch 1/60\n",
            "2028/2028 [==============================] - 21s 10ms/step - loss: 0.2364 - acc: 0.9227 - val_loss: 0.1569 - val_acc: 0.9453\n",
            "Epoch 2/60\n",
            "2028/2028 [==============================] - 21s 10ms/step - loss: 0.1691 - acc: 0.9439 - val_loss: 0.1286 - val_acc: 0.9564\n",
            "Epoch 3/60\n",
            "2028/2028 [==============================] - 20s 10ms/step - loss: 0.1435 - acc: 0.9521 - val_loss: 0.1281 - val_acc: 0.9599\n",
            "Epoch 4/60\n",
            "2028/2028 [==============================] - 21s 10ms/step - loss: 0.1279 - acc: 0.9571 - val_loss: 0.1131 - val_acc: 0.9599\n",
            "Epoch 5/60\n",
            "2028/2028 [==============================] - 20s 10ms/step - loss: 0.1160 - acc: 0.9607 - val_loss: 0.1027 - val_acc: 0.9647\n",
            "Epoch 6/60\n",
            "2028/2028 [==============================] - 21s 10ms/step - loss: 0.1097 - acc: 0.9631 - val_loss: 0.0862 - val_acc: 0.9710\n",
            "Epoch 7/60\n",
            "2028/2028 [==============================] - 21s 10ms/step - loss: 0.1000 - acc: 0.9651 - val_loss: 0.0844 - val_acc: 0.9715\n",
            "Epoch 8/60\n",
            "2028/2028 [==============================] - 21s 10ms/step - loss: 0.0949 - acc: 0.9672 - val_loss: 0.0810 - val_acc: 0.9718\n",
            "Epoch 9/60\n",
            "2028/2028 [==============================] - 21s 10ms/step - loss: 0.0913 - acc: 0.9682 - val_loss: 0.0913 - val_acc: 0.9696\n",
            "Epoch 10/60\n",
            "2028/2028 [==============================] - 21s 10ms/step - loss: 0.0840 - acc: 0.9710 - val_loss: 0.0809 - val_acc: 0.9718\n",
            "Epoch 11/60\n",
            "2028/2028 [==============================] - 21s 10ms/step - loss: 0.0808 - acc: 0.9716 - val_loss: 0.0705 - val_acc: 0.9771\n",
            "Epoch 12/60\n",
            "2028/2028 [==============================] - 21s 10ms/step - loss: 0.0764 - acc: 0.9729 - val_loss: 0.0652 - val_acc: 0.9775\n",
            "Epoch 13/60\n",
            "2028/2028 [==============================] - 21s 10ms/step - loss: 0.0736 - acc: 0.9738 - val_loss: 0.0661 - val_acc: 0.9779\n",
            "Epoch 14/60\n",
            "2028/2028 [==============================] - 21s 10ms/step - loss: 0.0714 - acc: 0.9746 - val_loss: 0.0648 - val_acc: 0.9785\n",
            "Epoch 15/60\n",
            "2028/2028 [==============================] - 21s 10ms/step - loss: 0.0682 - acc: 0.9761 - val_loss: 0.0709 - val_acc: 0.9761\n",
            "Epoch 16/60\n",
            "2028/2028 [==============================] - 21s 10ms/step - loss: 0.0655 - acc: 0.9765 - val_loss: 0.0645 - val_acc: 0.9789\n",
            "Epoch 17/60\n",
            "2028/2028 [==============================] - 21s 10ms/step - loss: 0.0635 - acc: 0.9778 - val_loss: 0.0623 - val_acc: 0.9794\n",
            "Epoch 18/60\n",
            "2028/2028 [==============================] - 21s 10ms/step - loss: 0.0633 - acc: 0.9777 - val_loss: 0.0582 - val_acc: 0.9811\n",
            "Epoch 19/60\n",
            "2028/2028 [==============================] - 21s 10ms/step - loss: 0.0592 - acc: 0.9792 - val_loss: 0.0904 - val_acc: 0.9740\n",
            "Epoch 20/60\n",
            "2028/2028 [==============================] - 20s 10ms/step - loss: 0.0587 - acc: 0.9793 - val_loss: 0.0568 - val_acc: 0.9821\n",
            "Epoch 21/60\n",
            "2028/2028 [==============================] - 21s 10ms/step - loss: 0.0546 - acc: 0.9806 - val_loss: 0.0554 - val_acc: 0.9804\n",
            "Epoch 22/60\n",
            "2028/2028 [==============================] - 20s 10ms/step - loss: 0.0549 - acc: 0.9806 - val_loss: 0.0783 - val_acc: 0.9781\n",
            "Epoch 23/60\n",
            "2028/2028 [==============================] - 20s 10ms/step - loss: 0.0529 - acc: 0.9817 - val_loss: 0.0561 - val_acc: 0.9815\n",
            "Epoch 24/60\n",
            "2028/2028 [==============================] - 21s 10ms/step - loss: 0.0507 - acc: 0.9817 - val_loss: 0.0555 - val_acc: 0.9822\n",
            "Epoch 25/60\n",
            "2028/2028 [==============================] - 21s 10ms/step - loss: 0.0488 - acc: 0.9831 - val_loss: 0.0556 - val_acc: 0.9810\n",
            "Epoch 26/60\n",
            "2028/2028 [==============================] - 21s 10ms/step - loss: 0.0484 - acc: 0.9826 - val_loss: 0.0578 - val_acc: 0.9814\n",
            "Epoch 27/60\n",
            "2028/2028 [==============================] - 21s 10ms/step - loss: 0.0489 - acc: 0.9826 - val_loss: 0.0529 - val_acc: 0.9837\n",
            "Epoch 28/60\n",
            "2028/2028 [==============================] - 21s 10ms/step - loss: 0.0466 - acc: 0.9827 - val_loss: 0.0517 - val_acc: 0.9837\n",
            "Epoch 29/60\n",
            "2028/2028 [==============================] - 20s 10ms/step - loss: 0.0439 - acc: 0.9837 - val_loss: 0.0540 - val_acc: 0.9833\n",
            "Epoch 30/60\n",
            "2028/2028 [==============================] - 21s 10ms/step - loss: 0.0438 - acc: 0.9840 - val_loss: 0.0564 - val_acc: 0.9831\n",
            "Epoch 31/60\n",
            "2028/2028 [==============================] - 21s 10ms/step - loss: 0.0440 - acc: 0.9846 - val_loss: 0.0609 - val_acc: 0.9825\n",
            "Epoch 32/60\n",
            "2028/2028 [==============================] - 21s 10ms/step - loss: 0.0407 - acc: 0.9856 - val_loss: 0.0713 - val_acc: 0.9804\n",
            "Epoch 33/60\n",
            "2028/2028 [==============================] - 20s 10ms/step - loss: 0.0413 - acc: 0.9854 - val_loss: 0.0507 - val_acc: 0.9837\n",
            "Epoch 34/60\n",
            "2028/2028 [==============================] - 21s 10ms/step - loss: 0.0398 - acc: 0.9856 - val_loss: 0.0632 - val_acc: 0.9811\n",
            "Epoch 35/60\n",
            "2028/2028 [==============================] - 21s 10ms/step - loss: 0.0400 - acc: 0.9856 - val_loss: 0.0601 - val_acc: 0.9829\n",
            "Epoch 36/60\n",
            "2028/2028 [==============================] - 21s 10ms/step - loss: 0.0390 - acc: 0.9860 - val_loss: 0.0511 - val_acc: 0.9846\n",
            "Epoch 37/60\n",
            "2028/2028 [==============================] - 20s 10ms/step - loss: 0.0382 - acc: 0.9866 - val_loss: 0.0560 - val_acc: 0.9842\n",
            "Epoch 38/60\n",
            "2028/2028 [==============================] - 21s 10ms/step - loss: 0.0367 - acc: 0.9868 - val_loss: 0.0645 - val_acc: 0.9835\n",
            "Epoch 39/60\n",
            "2028/2028 [==============================] - 21s 10ms/step - loss: 0.0362 - acc: 0.9871 - val_loss: 0.0561 - val_acc: 0.9839\n",
            "Epoch 40/60\n",
            "2028/2028 [==============================] - 21s 10ms/step - loss: 0.0367 - acc: 0.9865 - val_loss: 0.0532 - val_acc: 0.9833\n",
            "Epoch 41/60\n",
            "2028/2028 [==============================] - 21s 10ms/step - loss: 0.0353 - acc: 0.9872 - val_loss: 0.0597 - val_acc: 0.9835\n"
          ]
        }
      ]
    },
    {
      "cell_type": "markdown",
      "metadata": {
        "id": "gwHFxDfjqp5k"
      },
      "source": [
        "Plotting the loss curves after training (used for both data splitting #1 and #2\n",
        "\n",
        "*   Training loss\n",
        "*   Validation loss"
      ]
    },
    {
      "cell_type": "code",
      "metadata": {
        "colab": {
          "base_uri": "https://localhost:8080/",
          "height": 281
        },
        "id": "DuG6TGPSqin6",
        "outputId": "6e393c25-dc63-4b08-c9bc-880e08f47ff0"
      },
      "source": [
        "# Plot the losses\n",
        "loss = history.history['loss'] # Training loss\n",
        "val_loss = history.history['val_loss'] # Validation loss\n",
        "\n",
        "epochs = range(1, len(loss) + 1)\n",
        "\n",
        "# Plotting with labels, title, and legend\n",
        "plt.figure()\n",
        "plt.plot(epochs, loss, 'b', label = 'Train Loss')\n",
        "plt.plot(epochs, val_loss, 'r', label = 'Val Loss')\n",
        "plt.title('Training and Validation Loss')\n",
        "plt.legend()\n",
        "\n",
        "plt.show()"
      ],
      "execution_count": null,
      "outputs": [
        {
          "output_type": "display_data",
          "data": {
            "image/png": "[encoded data removed]",
            "text/plain": [
              "<Figure size 432x288 with 1 Axes>"
            ]
          },
          "metadata": {
            "needs_background": "light"
          }
        }
      ]
    },
    {
      "cell_type": "markdown",
      "metadata": {
        "id": "sqgr71FiFeyu"
      },
      "source": [
        "Assessing model performance (when using data splitting #2):\n",
        "\n",
        "*   Predicting on the test dataset that I created in the data split\n",
        "*   Using performance metrics of confusion matrix and accuracy"
      ]
    },
    {
      "cell_type": "code",
      "metadata": {
        "id": "34wpTJLtpA2U"
      },
      "source": [
        "# Normalizing the test set that was set aside from the original train set\n",
        "X_test_ = X_test/255"
      ],
      "execution_count": null,
      "outputs": []
    },
    {
      "cell_type": "code",
      "metadata": {
        "id": "DRrXsj2kHD6G"
      },
      "source": [
        "# Predicting on the test set\n",
        "y_pred_ = model.predict(X_test_)\n",
        "\n",
        "# Assiging 0 or 1 labels to the predictions\n",
        "y_pred = []\n",
        "for value in y_pred_:\n",
        "  if value > 0.5:\n",
        "    y_pred.append(1)\n",
        "  else:\n",
        "    y_pred.append(0)"
      ],
      "execution_count": null,
      "outputs": []
    },
    {
      "cell_type": "code",
      "metadata": {
        "colab": {
          "base_uri": "https://localhost:8080/"
        },
        "id": "7ofd4Jrj1Fo-",
        "outputId": "8fed3d9e-4849-42b5-c274-bcec20b54ced"
      },
      "source": [
        "# Checking that y_pred is of the correct length\n",
        "len(y_pred)"
      ],
      "execution_count": null,
      "outputs": [
        {
          "output_type": "execute_result",
          "data": {
            "text/plain": [
              "7214"
            ]
          },
          "metadata": {},
          "execution_count": 58
        }
      ]
    },
    {
      "cell_type": "code",
      "metadata": {
        "id": "D79dlr1kHIr_",
        "colab": {
          "base_uri": "https://localhost:8080/"
        },
        "outputId": "5adcf947-0995-41c9-f117-db2b131f90bc"
      },
      "source": [
        "# Checking the accuracy of the predictions\n",
        "print(accuracy_score(y_test, y_pred))"
      ],
      "execution_count": null,
      "outputs": [
        {
          "output_type": "stream",
          "name": "stdout",
          "text": [
            "0.9841973939561963\n"
          ]
        }
      ]
    },
    {
      "cell_type": "code",
      "metadata": {
        "id": "dqPiXmJ5F105",
        "colab": {
          "base_uri": "https://localhost:8080/",
          "height": 283
        },
        "outputId": "bfe28427-53ff-4807-e71e-48c832b6a724"
      },
      "source": [
        "# Plotting the confusion matrix\n",
        "cm = confusion_matrix(y_test, y_pred)\n",
        "\n",
        "ax= plt.subplot()\n",
        "sns.heatmap(cm, annot=True, fmt='g', ax=ax)"
      ],
      "execution_count": null,
      "outputs": [
        {
          "output_type": "execute_result",
          "data": {
            "text/plain": [
              "<matplotlib.axes._subplots.AxesSubplot at 0x7fd4102e66d0>"
            ]
          },
          "metadata": {},
          "execution_count": 61
        },
        {
          "output_type": "display_data",
          "data": {
            "image/png": "[encoded data removed]",
            "text/plain": [
              "<Figure size 432x288 with 2 Axes>"
            ]
          },
          "metadata": {
            "needs_background": "light"
          }
        }
      ]
    },
    {
      "cell_type": "markdown",
      "metadata": {
        "id": "OdEr43K74K6a"
      },
      "source": [
        "#Predicting on the Test Dataset\n",
        "\n",
        "This section is for predicting on the test set after running one of the 3 models\n",
        "\n",
        "Data preprocessing for Test Dataset\n",
        "*   Dropping the 'Id' column\n",
        "*   Normalizing the values\n",
        "*   Reshaping it to be of 3 dimensions\n",
        "\n",
        "Upon prediction, add it to a csv with the respective Ids for submission\n",
        "\n",
        "To run: Run all cells in order and download the prediction file from the files section in the Colab Notebook."
      ]
    },
    {
      "cell_type": "code",
      "metadata": {
        "colab": {
          "base_uri": "https://localhost:8080/"
        },
        "id": "KKx3z1xtwj6E",
        "outputId": "c52c8943-5976-4041-b6ab-eb6ac54a7e39"
      },
      "source": [
        "# Removing the Id column, normalizing, and then reshaping the test dataset before performing predictions\n",
        "X_test = test_df.drop(columns=['Id'], axis = 1).values\n",
        "X_test = X_test.astype(np.float32)\n",
        "X_test /= 255\n",
        "X_test = X_test.reshape(-1, 20, 20, 1)\n",
        "\n",
        "# Identify the shape of the test dataset to ensure that it has been reshaped properly\n",
        "print(X_test.shape)"
      ],
      "execution_count": null,
      "outputs": [
        {
          "output_type": "stream",
          "name": "stdout",
          "text": [
            "(30917, 20, 20, 1)\n"
          ]
        }
      ]
    },
    {
      "cell_type": "code",
      "metadata": {
        "id": "cAcYmzkYw0Xx"
      },
      "source": [
        "# Predict on the test dataset using the trained model\n",
        "values = model.predict(X_test)"
      ],
      "execution_count": null,
      "outputs": []
    },
    {
      "cell_type": "code",
      "metadata": {
        "id": "29b1-BIlw2qw"
      },
      "source": [
        "# Create an empty list (target) which will store all the predictions\n",
        "target = []\n",
        "values = values.tolist()\n",
        "id = list(range(0, len(values)))\n",
        "\n",
        "# Append all the values into the empty list (target)\n",
        "for value in values:  \n",
        "    target.append(value[0])"
      ],
      "execution_count": null,
      "outputs": []
    },
    {
      "cell_type": "code",
      "metadata": {
        "id": "0KhAw6vuwi_H"
      },
      "source": [
        "# Create a csv file with 2 columns, Id and Predicted to store the Ids of the predictions and the prediction values respectively\n",
        "output = pd.DataFrame(list(zip(id, target)), columns = ['Id', 'Predicted'])\n",
        "output.to_csv('submission.csv', index = False)"
      ],
      "execution_count": null,
      "outputs": []
    }
  ]
}
